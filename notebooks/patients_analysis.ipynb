{
 "cells": [
  {
   "cell_type": "code",
   "execution_count": 11,
   "id": "030d2870-608a-4eb9-bfa9-05ce41b78291",
   "metadata": {},
   "outputs": [
    {
     "name": "stdout",
     "output_type": "stream",
     "text": [
      "تم إنشاء ملف patients.csv\n"
     ]
    }
   ],
   "source": [
    "# Import the pandas library for data manipulation\n",
    "import pandas as pd\n",
    "\n",
    "# Define the patient data as a dictionary\n",
    "data = {\n",
    "    'PatientId': [1, 2, 3, 4, 5, 6, 7, 8, 9, 10],\n",
    "    'Age': [45, 55, 35, 65, 50, 40, 60, 30, 70, 25],\n",
    "    'Sex': ['M', 'M', 'F', 'M', 'F', 'M', 'F', 'M', 'F', 'F'],\n",
    "    'BloodPressure': [120, 130, 110, 140, 125, 135, 145, 115, 150, 105],\n",
    "    'Cholesterol': [200, 220, 180, 240, 210, 230, 250, 190, 260, 170],\n",
    "    'Diagnosis': ['Healthy', 'Heart Disease', 'Healthy', 'Diabetes', 'Healthy', 'Heart Disease', 'Healthy', 'Heart Disease', 'Healthy', 'Healthy'],\n",
    "    'Weight': [70, 65, 80, 75, 85, 60, 90, 55, 95, 50],\n",
    "    'Height': [175, 165, 180, 160, 170, 158, 185, 162, 190, 155]\n",
    "}\n",
    "\n",
    "# Convert the dictionary into a pandas DataFrame\n",
    "df = pd.DataFrame(data)\n",
    "\n",
    "# Export the DataFrame to a CSV file named 'patients.csv'\n",
    "# The 'data/' prefix suggests saving it in a subdirectory named 'data'\n",
    "# index=False prevents writing the row numbers into the CSV file\n",
    "df.to_csv(\"../data/patients.csv\", index=False)\n",
    "\n",
    "print (\"تم إنشاء ملف patients.csv\")"
   ]
  },
  {
   "cell_type": "code",
   "execution_count": null,
   "id": "95ff71f4-f5d2-4763-bda7-5875c793ed5d",
   "metadata": {},
   "outputs": [],
   "source": []
  }
 ],
 "metadata": {
  "kernelspec": {
   "display_name": "Python [conda env:base] *",
   "language": "python",
   "name": "conda-base-py"
  },
  "language_info": {
   "codemirror_mode": {
    "name": "ipython",
    "version": 3
   },
   "file_extension": ".py",
   "mimetype": "text/x-python",
   "name": "python",
   "nbconvert_exporter": "python",
   "pygments_lexer": "ipython3",
   "version": "3.13.5"
  }
 },
 "nbformat": 4,
 "nbformat_minor": 5
}
